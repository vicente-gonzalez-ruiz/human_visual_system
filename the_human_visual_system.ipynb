{
 "cells": [
  {
   "cell_type": "markdown",
   "metadata": {},
   "source": [
    "# The Human Visual System"
   ]
  },
  {
   "cell_type": "markdown",
   "metadata": {},
   "source": [
    "## Anatomy of the human visual system\n",
    "\n",
    "* The human visual system (HVS) converts light waves that belong to the visible spectrum and that reach the eyes, in synaptic signals that are interpreted by the brain.\n",
    "\n",
    "<img src=\"https://upload.wikimedia.org/wikipedia/commons/thumb/7/7e/Gray722-svg.svg/1000px-Gray722-svg.svg.png\" width=\"1000\">"
   ]
  },
  {
   "cell_type": "markdown",
   "metadata": {},
   "source": [
    "## Human eye\n",
    "* Practically, the human eye is a spherical structure in which light enters only through a small hole (as in a photographic camera). The outer covering of the eye is opaque and the interior of the eye is translucent.\n",
    "\n",
    "<img src=\"https://upload.wikimedia.org/wikipedia/commons/d/d0/Three_Main_Layers_of_the_Eye.png\" width=\"500\">\n",
    "\n",
    "* In the retina the images are projected inverted (as happens a [camera obscura](https://en.wikipedia.org/wiki/Camera_obscura)).\n",
    "\n",
    "<img src=\"https://upload.wikimedia.org/wikipedia/commons/e/ec/001_a01_camera_obscura_abrazolas.jpg\">"
   ]
  },
  {
   "cell_type": "markdown",
   "metadata": {},
   "source": [
    "## The sclera\n",
    "\n",
    "* The sclera is the outermost membrane of the eye and is opaque, except in its anterior part where it is transparent and is called cornea.\n",
    "\n",
    "<img src=\"https://upload.wikimedia.org/wikipedia/commons/8/86/Sclera.PNG\">\n",
    "\n",
    "* Its main function is to prevent light from entering the eye, except through the cornea."
   ]
  },
  {
   "cell_type": "markdown",
   "metadata": {},
   "source": [
    "## Choroid and iris\n",
    "* Choroid is a very pigmented and vascularized membrane that covers the entire eye. It prevents light from entering through it and its great sanguine irrigation provides heat and nourishment to the rest of the eye.\n",
    "\n",
    "<img src=\"https://upload.wikimedia.org/wikipedia/commons/thumb/0/03/Blausen_0388_EyeAnatomy_01.png/800px-Blausen_0388_EyeAnatomy_01.png\">\n",
    "\n",
    "* Choroid in its anterior part has a round muscular expanse called *iris*, and in the center there is a round opening called a *pupil*. The function of the iris is to control (by reflex) the diameter of the pupil, thus determining the amount of light that enters the eye.\n",
    "\n",
    "<img src=\"https://upload.wikimedia.org/wikipedia/commons/thumb/1/1e/Schematic_diagram_of_the_human_eye_en.svg/1000px-Schematic_diagram_of_the_human_eye_en.svg.png\">"
   ]
  },
  {
   "cell_type": "markdown",
   "metadata": {},
   "source": [
    "## Lens and ciliary muscle\n",
    "* Transparent structure in the form of a lens, formed by concentric layers of fibrous cells that are attached to the ciliary muscle.\n",
    "\n",
    "<img src=\"https://upload.wikimedia.org/wikipedia/commons/2/28/Gray872.png\">\n",
    "\n",
    "* The focal length of the eye depends on the tension of this muscle. When the eye is relaxed, the lens is rounded and the eye focuses at infinity (therefore, to rest the eyes it is necessary to close them or look at the infinity).\n",
    "\n",
    "* The lens is slightly colored by a yellow pigmentation that absorbs infrared and ultraviolet light, which could damage the retina."
   ]
  },
  {
   "cell_type": "markdown",
   "metadata": {},
   "source": []
  }
 ],
 "metadata": {
  "kernelspec": {
   "display_name": "Python 3",
   "language": "python",
   "name": "python3"
  },
  "language_info": {
   "codemirror_mode": {
    "name": "ipython",
    "version": 3
   },
   "file_extension": ".py",
   "mimetype": "text/x-python",
   "name": "python",
   "nbconvert_exporter": "python",
   "pygments_lexer": "ipython3",
   "version": "3.6.3"
  }
 },
 "nbformat": 4,
 "nbformat_minor": 2
}
