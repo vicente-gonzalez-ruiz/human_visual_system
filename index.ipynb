{
 "cells": [
  {
   "cell_type": "markdown",
   "metadata": {},
   "source": [
    "# The Human Visual System"
   ]
  },
  {
   "cell_type": "markdown",
   "metadata": {},
   "source": [
    "## Anatomy of the human visual system\n",
    "\n",
    "* The human visual system (HVS) converts light waves that belong to the visible spectrum and that reach the eyes, in synaptic signals that are interpreted by the brain.\n",
    "\n",
    "<img src=\"https://upload.wikimedia.org/wikipedia/commons/c/cd/Lisa_analysis.png\" width=\"500\">"
   ]
  },
  {
   "cell_type": "markdown",
   "metadata": {},
   "source": [
    "## Human eye\n",
    "* Practically, the human eye is a spherical structure in which light enters only through a small hole (as in a photographic camera). The outer covering of the eye is opaque and the interior of the eye is translucent.\n",
    "\n",
    "<img src=\"https://upload.wikimedia.org/wikipedia/commons/d/d0/Three_Main_Layers_of_the_Eye.png\" width=\"500\">\n",
    "\n",
    "* In the retina the images are projected inverted (as happens a [camera obscura](https://en.wikipedia.org/wiki/Camera_obscura)).\n",
    "\n",
    "<img src=\"https://upload.wikimedia.org/wikipedia/commons/e/ec/001_a01_camera_obscura_abrazolas.jpg\">"
   ]
  },
  {
   "cell_type": "markdown",
   "metadata": {},
   "source": [
    "## The sclera\n",
    "\n",
    "* The sclera is the outermost membrane of the eye and is opaque, except in its anterior part where it is transparent and is called cornea.\n",
    "\n",
    "<img src=\"https://upload.wikimedia.org/wikipedia/commons/8/86/Sclera.PNG\">\n",
    "\n",
    "* Its main function is to prevent light from entering the eye, except through the cornea."
   ]
  },
  {
   "cell_type": "markdown",
   "metadata": {},
   "source": [
    "## Choroid and iris\n",
    "* Choroid is a very pigmented and vascularized membrane that covers the entire eye. It prevents light from entering through it and its great sanguine irrigation provides heat and nourishment to the rest of the eye.\n",
    "\n",
    "<img src=\"https://upload.wikimedia.org/wikipedia/commons/thumb/0/03/Blausen_0388_EyeAnatomy_01.png/800px-Blausen_0388_EyeAnatomy_01.png\">\n",
    "\n",
    "* Choroid in its anterior part has a round muscular expanse called *iris*, and in the center there is a round opening called a *pupil*. The function of the iris is to control (by reflex) the diameter of the pupil, thus determining the amount of light that enters the eye.\n",
    "\n",
    "<img src=\"https://upload.wikimedia.org/wikipedia/commons/thumb/1/1e/Schematic_diagram_of_the_human_eye_en.svg/1000px-Schematic_diagram_of_the_human_eye_en.svg.png\">"
   ]
  },
  {
   "cell_type": "markdown",
   "metadata": {},
   "source": [
    "## Lens and ciliary muscle\n",
    "* Transparent structure in the form of a lens, formed by concentric layers of fibrous cells that are attached to the ciliary muscle.\n",
    "\n",
    "<img src=\"https://upload.wikimedia.org/wikipedia/commons/2/28/Gray872.png\">\n",
    "\n",
    "* The focal length of the eye depends on the tension of this muscle. When the eye is relaxed, the lens is rounded and the eye focuses at infinity (therefore, to rest the eyes it is necessary to close them or look at the infinity).\n",
    "\n",
    "* The lens is slightly colored by a yellow pigmentation that absorbs infrared and ultraviolet light, which could damage the retina."
   ]
  },
  {
   "cell_type": "markdown",
   "metadata": {},
   "source": []
  },
  {
   "cell_type": "markdown",
   "metadata": {},
   "source": [
    "## Cornea, lens and fovea\n",
    "* These two transparent structures work like the lenses of Galieo's telescope. Thanks to the phenomenon of the diffraction of light, the cornea concentrates the external light so that it passes through the pupil. The lens performs the reverse function, getting the light to concentrate in the fovea.\n",
    "\n",
    "<img src=\"https://upload.wikimedia.org/wikipedia/commons/thumb/3/30/Blausen_0389_EyeAnatomy_02.png/600px-Blausen_0389_EyeAnatomy_02.png\">"
   ]
  },
  {
   "cell_type": "markdown",
   "metadata": {},
   "source": [
    "## Aqueous humor and vitreous humor\n",
    "\n",
    "* The eye has an anterior fluid filled with a clear liquid called aqueous humor, which is a dispersion of albumin in salt water. In this case, behind the iris, the lens is located.\n",
    "\n",
    "* Behind the lens is the vitreous humor, a kind of very fragile protein gel surrounded by the hilaloid membrane (not shown in the figure).\n",
    "\n",
    "<img src=\"https://upload.wikimedia.org/wikipedia/en/f/f8/Schematic_diagram_of_the_human_eye.png\">"
   ]
  },
  {
   "cell_type": "markdown",
   "metadata": {},
   "source": [
    "## Retina\n",
    "* The retina is a light-sensitive membrane and covers the entire choroidal surface. The retina is really the nervous network formed by the terminal cells of the fibers of the optic nerve. \n",
    "\n",
    "<img src=\"https://upload.wikimedia.org/wikipedia/commons/thumb/6/6c/Macula.svg/500px-Macula.svg.png\">\n",
    "\n",
    "* On the back, the retina presents a small depression called fovea that is very important in the view of the details. In the retine there are two types of light receptors called cones and rods. The cones are sensitive to color and are located mainly in the back of the eye (in the fovea). The rods (distributed throughout the retina), much more numerous than the cones (it is estimated that the number of cones in one eye is 6 or 7 million, while the number of cones ranges between 75 and 150 million), are not sensitive to color.\n",
    "\n",
    "<img src=\"https://upload.wikimedia.org/wikipedia/commons/thumb/3/3c/Human_photoreceptor_distribution.svg/500px-Human_photoreceptor_distribution.svg.png\">\n",
    "\n",
    "* The cones give us the photopic vision (or bright light) that is what we use in situations with sufficient light intensity. In addition, each cone is connected to a nervous termination so the level of visual resolution of the fovea (where the most important part of the visual scene is located) is high. Rods, although more numerous than cones, are connected in groups to the nerve endings. This reduces the amount of detail discernible with them although given their large number and their retinal distribution they give us a general view of the scene. In situations of low light intensity, only the rods are active (low vision or scotch) and it is not possible to distinguish colors.\n",
    "\n",
    "<img src=\"https://upload.wikimedia.org/wikipedia/commons/e/e8/1414_Rods_and_Cones.jpg\" width=800>\n"
   ]
  },
  {
   "cell_type": "code",
   "execution_count": null,
   "metadata": {},
   "outputs": [],
   "source": []
  }
 ],
 "metadata": {
  "kernelspec": {
   "display_name": "Python 3",
   "language": "python",
   "name": "python3"
  },
  "language_info": {
   "codemirror_mode": {
    "name": "ipython",
    "version": 3
   },
   "file_extension": ".py",
   "mimetype": "text/x-python",
   "name": "python",
   "nbconvert_exporter": "python",
   "pygments_lexer": "ipython3",
   "version": "3.8.3"
  }
 },
 "nbformat": 4,
 "nbformat_minor": 2
}
